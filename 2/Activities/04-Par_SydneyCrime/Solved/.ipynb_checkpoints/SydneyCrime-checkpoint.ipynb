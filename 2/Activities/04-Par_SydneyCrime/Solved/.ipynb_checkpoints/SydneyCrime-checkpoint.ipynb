{
 "cells": [
  {
   "cell_type": "code",
   "execution_count": 1,
   "metadata": {},
   "outputs": [],
   "source": [
    "# Import Dependencies\n",
    "import pandas as pd"
   ]
  },
  {
   "cell_type": "code",
   "execution_count": 8,
   "metadata": {},
   "outputs": [
    {
     "output_type": "execute_result",
     "data": {
      "text/plain": "                                             Region  \\\n0    Greater Sydney - Baulkham Hills and Hawkesbury   \n1    Greater Sydney - Baulkham Hills and Hawkesbury   \n2    Greater Sydney - Baulkham Hills and Hawkesbury   \n3    Greater Sydney - Baulkham Hills and Hawkesbury   \n4    Greater Sydney - Baulkham Hills and Hawkesbury   \n..                                              ...   \n401                                      In Custody   \n402                                      In Custody   \n403                                      In Custody   \n404                                      In Custody   \n405                                      In Custody   \n\n                              Offence type Apr 2015 - Mar 2016  \\\n0                                 Murder *                   0   \n1                         Attempted murder                   0   \n2    Non-domestic violence related assault                 331   \n3                 Abduction and kidnapping                   1   \n4                 Robbery without a weapon                  14   \n..                                     ...                 ...   \n401       Dealing, trafficking in cannabis                   2   \n402   Dealing, trafficking in amphetamines                 NaN   \n403        Dealing, trafficking in ecstasy                   3   \n404    Dealing, trafficking in other drugs                  22   \n405                               Trespass                   3   \n\n    Apr 2016 - Mar 2017 Apr 2017 - Mar 2018 Apr 2018 - Mar 2019  \\\n0                     1                   0                   1   \n1                     0                   0                   0   \n2                   336                 364                 311   \n3                     1                   3                   3   \n4                    13                  10                  14   \n..                  ...                 ...                 ...   \n401                   3                   7                   7   \n402                  25                  15                  24   \n403                   1                   0                   0   \n404                  23                  32                  73   \n405                   7                  13                   5   \n\n    Apr 2019 - Mar 2020  \n0                     0  \n1                     0  \n2                   353  \n3                     0  \n4                    15  \n..                  ...  \n401                   2  \n402                  19  \n403                   0  \n404                  41  \n405                   7  \n\n[406 rows x 7 columns]",
      "text/html": "<div>\n<style scoped>\n    .dataframe tbody tr th:only-of-type {\n        vertical-align: middle;\n    }\n\n    .dataframe tbody tr th {\n        vertical-align: top;\n    }\n\n    .dataframe thead th {\n        text-align: right;\n    }\n</style>\n<table border=\"1\" class=\"dataframe\">\n  <thead>\n    <tr style=\"text-align: right;\">\n      <th></th>\n      <th>Region</th>\n      <th>Offence type</th>\n      <th>Apr 2015 - Mar 2016</th>\n      <th>Apr 2016 - Mar 2017</th>\n      <th>Apr 2017 - Mar 2018</th>\n      <th>Apr 2018 - Mar 2019</th>\n      <th>Apr 2019 - Mar 2020</th>\n    </tr>\n  </thead>\n  <tbody>\n    <tr>\n      <th>0</th>\n      <td>Greater Sydney - Baulkham Hills and Hawkesbury</td>\n      <td>Murder *</td>\n      <td>0</td>\n      <td>1</td>\n      <td>0</td>\n      <td>1</td>\n      <td>0</td>\n    </tr>\n    <tr>\n      <th>1</th>\n      <td>Greater Sydney - Baulkham Hills and Hawkesbury</td>\n      <td>Attempted murder</td>\n      <td>0</td>\n      <td>0</td>\n      <td>0</td>\n      <td>0</td>\n      <td>0</td>\n    </tr>\n    <tr>\n      <th>2</th>\n      <td>Greater Sydney - Baulkham Hills and Hawkesbury</td>\n      <td>Non-domestic violence related assault</td>\n      <td>331</td>\n      <td>336</td>\n      <td>364</td>\n      <td>311</td>\n      <td>353</td>\n    </tr>\n    <tr>\n      <th>3</th>\n      <td>Greater Sydney - Baulkham Hills and Hawkesbury</td>\n      <td>Abduction and kidnapping</td>\n      <td>1</td>\n      <td>1</td>\n      <td>3</td>\n      <td>3</td>\n      <td>0</td>\n    </tr>\n    <tr>\n      <th>4</th>\n      <td>Greater Sydney - Baulkham Hills and Hawkesbury</td>\n      <td>Robbery without a weapon</td>\n      <td>14</td>\n      <td>13</td>\n      <td>10</td>\n      <td>14</td>\n      <td>15</td>\n    </tr>\n    <tr>\n      <th>...</th>\n      <td>...</td>\n      <td>...</td>\n      <td>...</td>\n      <td>...</td>\n      <td>...</td>\n      <td>...</td>\n      <td>...</td>\n    </tr>\n    <tr>\n      <th>401</th>\n      <td>In Custody</td>\n      <td>Dealing, trafficking in cannabis</td>\n      <td>2</td>\n      <td>3</td>\n      <td>7</td>\n      <td>7</td>\n      <td>2</td>\n    </tr>\n    <tr>\n      <th>402</th>\n      <td>In Custody</td>\n      <td>Dealing, trafficking in amphetamines</td>\n      <td>NaN</td>\n      <td>25</td>\n      <td>15</td>\n      <td>24</td>\n      <td>19</td>\n    </tr>\n    <tr>\n      <th>403</th>\n      <td>In Custody</td>\n      <td>Dealing, trafficking in ecstasy</td>\n      <td>3</td>\n      <td>1</td>\n      <td>0</td>\n      <td>0</td>\n      <td>0</td>\n    </tr>\n    <tr>\n      <th>404</th>\n      <td>In Custody</td>\n      <td>Dealing, trafficking in other drugs</td>\n      <td>22</td>\n      <td>23</td>\n      <td>32</td>\n      <td>73</td>\n      <td>41</td>\n    </tr>\n    <tr>\n      <th>405</th>\n      <td>In Custody</td>\n      <td>Trespass</td>\n      <td>3</td>\n      <td>7</td>\n      <td>13</td>\n      <td>5</td>\n      <td>7</td>\n    </tr>\n  </tbody>\n</table>\n<p>406 rows × 7 columns</p>\n</div>"
     },
     "metadata": {},
     "execution_count": 8
    }
   ],
   "source": [
    "# Reference the file where the CSV is located\n",
    "crime_csv_path = \"Resources/Sydney_Crime.csv\"\n",
    "\n",
    "# Import the data into a Pandas DataFrame\n",
    "crime_df = pd.read_csv(crime_csv_path)\n",
    "crime_df"
   ]
  },
  {
   "cell_type": "code",
   "execution_count": 9,
   "metadata": {},
   "outputs": [
    {
     "output_type": "execute_result",
     "data": {
      "text/plain": "Region                 406\nOffence type           406\nApr 2015 - Mar 2016    405\nApr 2016 - Mar 2017    405\nApr 2017 - Mar 2018    406\nApr 2018 - Mar 2019    405\nApr 2019 - Mar 2020    405\ndtype: int64"
     },
     "metadata": {},
     "execution_count": 9
    }
   ],
   "source": [
    "# look for missing values\n",
    "crime_df.count()"
   ]
  },
  {
   "cell_type": "code",
   "execution_count": 10,
   "metadata": {},
   "outputs": [],
   "source": [
    "# drop null rows\n",
    "no_null_crime_df = crime_df.dropna(how='any')"
   ]
  },
  {
   "cell_type": "code",
   "execution_count": 11,
   "metadata": {},
   "outputs": [
    {
     "output_type": "execute_result",
     "data": {
      "text/plain": "Region                 402\nOffence type           402\nApr 2015 - Mar 2016    402\nApr 2016 - Mar 2017    402\nApr 2017 - Mar 2018    402\nApr 2018 - Mar 2019    402\nApr 2019 - Mar 2020    402\ndtype: int64"
     },
     "metadata": {},
     "execution_count": 11
    }
   ],
   "source": [
    "# verify counts\n",
    "no_null_crime_df.count()"
   ]
  },
  {
   "cell_type": "code",
   "execution_count": 12,
   "metadata": {
    "scrolled": true
   },
   "outputs": [
    {
     "output_type": "execute_result",
     "data": {
      "text/plain": "Arson                                    29\nDealing, trafficking in cannabis         29\nTrespass                                 29\nDealing, trafficking in ecstasy          29\nDealing, trafficking in narcotics        29\nNon-domestic violence related assault    29\nRobbery with a firearm                   29\nDealing, trafficking in cocaine          29\nAttempted murder                         29\nDealing, trafficking in other drugs      29\nMurder *                                 28\nDealing, trafficking in amphetamines     28\nRobbery without a weapon                 28\nAbduction and kidnapping                 28\nName: Offence type, dtype: int64"
     },
     "metadata": {},
     "execution_count": 12
    }
   ],
   "source": [
    "# Check to see if there are any values with mispelled or similar values in \"Offence type\"\n",
    "no_null_crime_df[\"Offence type\"].value_counts()"
   ]
  },
  {
   "cell_type": "code",
   "execution_count": 13,
   "metadata": {},
   "outputs": [
    {
     "output_type": "execute_result",
     "data": {
      "text/plain": "                                             Region  \\\n0    Greater Sydney - Baulkham Hills and Hawkesbury   \n1    Greater Sydney - Baulkham Hills and Hawkesbury   \n2    Greater Sydney - Baulkham Hills and Hawkesbury   \n3    Greater Sydney - Baulkham Hills and Hawkesbury   \n4    Greater Sydney - Baulkham Hills and Hawkesbury   \n..                                              ...   \n400                                      In Custody   \n401                                      In Custody   \n403                                      In Custody   \n404                                      In Custody   \n405                                      In Custody   \n\n                              Offence type Apr 2015 - Mar 2016  \\\n0                                 Murder *                   0   \n1                         Attempted murder                   0   \n2    Non-domestic violence related assault                 331   \n3                 Abduction and kidnapping                   1   \n4                 Robbery without a weapon                  14   \n..                                     ...                 ...   \n400                                  Drugs                   7   \n401                                  Drugs                   2   \n403                                  Drugs                   3   \n404                                  Drugs                  22   \n405                               Trespass                   3   \n\n    Apr 2016 - Mar 2017 Apr 2017 - Mar 2018 Apr 2018 - Mar 2019  \\\n0                     1                   0                   1   \n1                     0                   0                   0   \n2                   336                 364                 311   \n3                     1                   3                   3   \n4                    13                  10                  14   \n..                  ...                 ...                 ...   \n400                   4                   3                   6   \n401                   3                   7                   7   \n403                   1                   0                   0   \n404                  23                  32                  73   \n405                   7                  13                   5   \n\n    Apr 2019 - Mar 2020  \n0                     0  \n1                     0  \n2                   353  \n3                     0  \n4                    15  \n..                  ...  \n400                   6  \n401                   2  \n403                   0  \n404                  41  \n405                   7  \n\n[402 rows x 7 columns]",
      "text/html": "<div>\n<style scoped>\n    .dataframe tbody tr th:only-of-type {\n        vertical-align: middle;\n    }\n\n    .dataframe tbody tr th {\n        vertical-align: top;\n    }\n\n    .dataframe thead th {\n        text-align: right;\n    }\n</style>\n<table border=\"1\" class=\"dataframe\">\n  <thead>\n    <tr style=\"text-align: right;\">\n      <th></th>\n      <th>Region</th>\n      <th>Offence type</th>\n      <th>Apr 2015 - Mar 2016</th>\n      <th>Apr 2016 - Mar 2017</th>\n      <th>Apr 2017 - Mar 2018</th>\n      <th>Apr 2018 - Mar 2019</th>\n      <th>Apr 2019 - Mar 2020</th>\n    </tr>\n  </thead>\n  <tbody>\n    <tr>\n      <th>0</th>\n      <td>Greater Sydney - Baulkham Hills and Hawkesbury</td>\n      <td>Murder *</td>\n      <td>0</td>\n      <td>1</td>\n      <td>0</td>\n      <td>1</td>\n      <td>0</td>\n    </tr>\n    <tr>\n      <th>1</th>\n      <td>Greater Sydney - Baulkham Hills and Hawkesbury</td>\n      <td>Attempted murder</td>\n      <td>0</td>\n      <td>0</td>\n      <td>0</td>\n      <td>0</td>\n      <td>0</td>\n    </tr>\n    <tr>\n      <th>2</th>\n      <td>Greater Sydney - Baulkham Hills and Hawkesbury</td>\n      <td>Non-domestic violence related assault</td>\n      <td>331</td>\n      <td>336</td>\n      <td>364</td>\n      <td>311</td>\n      <td>353</td>\n    </tr>\n    <tr>\n      <th>3</th>\n      <td>Greater Sydney - Baulkham Hills and Hawkesbury</td>\n      <td>Abduction and kidnapping</td>\n      <td>1</td>\n      <td>1</td>\n      <td>3</td>\n      <td>3</td>\n      <td>0</td>\n    </tr>\n    <tr>\n      <th>4</th>\n      <td>Greater Sydney - Baulkham Hills and Hawkesbury</td>\n      <td>Robbery without a weapon</td>\n      <td>14</td>\n      <td>13</td>\n      <td>10</td>\n      <td>14</td>\n      <td>15</td>\n    </tr>\n    <tr>\n      <th>...</th>\n      <td>...</td>\n      <td>...</td>\n      <td>...</td>\n      <td>...</td>\n      <td>...</td>\n      <td>...</td>\n      <td>...</td>\n    </tr>\n    <tr>\n      <th>400</th>\n      <td>In Custody</td>\n      <td>Drugs</td>\n      <td>7</td>\n      <td>4</td>\n      <td>3</td>\n      <td>6</td>\n      <td>6</td>\n    </tr>\n    <tr>\n      <th>401</th>\n      <td>In Custody</td>\n      <td>Drugs</td>\n      <td>2</td>\n      <td>3</td>\n      <td>7</td>\n      <td>7</td>\n      <td>2</td>\n    </tr>\n    <tr>\n      <th>403</th>\n      <td>In Custody</td>\n      <td>Drugs</td>\n      <td>3</td>\n      <td>1</td>\n      <td>0</td>\n      <td>0</td>\n      <td>0</td>\n    </tr>\n    <tr>\n      <th>404</th>\n      <td>In Custody</td>\n      <td>Drugs</td>\n      <td>22</td>\n      <td>23</td>\n      <td>32</td>\n      <td>73</td>\n      <td>41</td>\n    </tr>\n    <tr>\n      <th>405</th>\n      <td>In Custody</td>\n      <td>Trespass</td>\n      <td>3</td>\n      <td>7</td>\n      <td>13</td>\n      <td>5</td>\n      <td>7</td>\n    </tr>\n  </tbody>\n</table>\n<p>402 rows × 7 columns</p>\n</div>"
     },
     "metadata": {},
     "execution_count": 13
    }
   ],
   "source": [
    "# Combining similar offenses together\n",
    "no_null_crime_df = no_null_crime_df.replace(\n",
    "    {\"Dealing, trafficking in cannabis\": \"Drugs\", \"Dealing, trafficking in ecstasy\": \"Drugs\", \"Dealing, trafficking in narcotics\":\"Drugs\", \"Dealing, trafficking in cocaine\":\"Drugs\",\"Dealing, trafficking in other drugs\":\"Drugs\",\"Dealing, trafficking in amphetamines\":\"Drugs\"})\n",
    "no_null_crime_df"
   ]
  },
  {
   "cell_type": "code",
   "execution_count": 16,
   "metadata": {},
   "outputs": [
    {
     "output_type": "execute_result",
     "data": {
      "text/plain": "Drugs                                    173\nArson                                     29\nTrespass                                  29\nNon-domestic violence related assault     29\nRobbery with a firearm                    29\nAttempted murder                          29\nMurder *                                  28\nRobbery without a weapon                  28\nAbduction and kidnapping                  28\nName: Offence type, dtype: int64"
     },
     "metadata": {},
     "execution_count": 16
    }
   ],
   "source": [
    "# Check to see if you combined similar offenses correctly in \"Offense Type\".\n",
    "no_null_crime_df[\"Offence type\"].value_counts()"
   ]
  },
  {
   "cell_type": "code",
   "execution_count": 18,
   "metadata": {},
   "outputs": [
    {
     "output_type": "execute_result",
     "data": {
      "text/plain": "           Region                           Offence type Apr 2015 - Mar 2016  \\\n224  Central West                               Murder *                   3   \n225  Central West                       Attempted murder                   0   \n226  Central West  Non-domestic violence related assault               1,126   \n227  Central West               Abduction and kidnapping                   7   \n228  Central West               Robbery without a weapon                  22   \n229  Central West                 Robbery with a firearm                   2   \n230  Central West                                  Arson                 244   \n231  Central West                                  Drugs                   1   \n232  Central West                                  Drugs                   4   \n233  Central West                                  Drugs                  25   \n234  Central West                                  Drugs                 142   \n235  Central West                                  Drugs                   9   \n236  Central West                                  Drugs                   6   \n237  Central West                               Trespass                 611   \n\n    Apr 2016 - Mar 2017 Apr 2017 - Mar 2018 Apr 2018 - Mar 2019  \\\n224                   4                   3                   2   \n225                   0                   1                   1   \n226               1,155               1,084               1,156   \n227                   9                   6                  17   \n228                  22                  18                  36   \n229                   7                   2                   2   \n230                 263                 333                 283   \n231                   0                   4                   4   \n232                   8                   1                   1   \n233                  29                 179                  22   \n234                 148                  99                  39   \n235                  12                  38                   6   \n236                  11                  12                   7   \n237                 570                 526                 495   \n\n    Apr 2019 - Mar 2020  \n224                   3  \n225                   0  \n226               1,103  \n227                   8  \n228                  31  \n229                   2  \n230                 256  \n231                   1  \n232                   0  \n233                  30  \n234                 244  \n235                   8  \n236                   7  \n237                 639  ",
      "text/html": "<div>\n<style scoped>\n    .dataframe tbody tr th:only-of-type {\n        vertical-align: middle;\n    }\n\n    .dataframe tbody tr th {\n        vertical-align: top;\n    }\n\n    .dataframe thead th {\n        text-align: right;\n    }\n</style>\n<table border=\"1\" class=\"dataframe\">\n  <thead>\n    <tr style=\"text-align: right;\">\n      <th></th>\n      <th>Region</th>\n      <th>Offence type</th>\n      <th>Apr 2015 - Mar 2016</th>\n      <th>Apr 2016 - Mar 2017</th>\n      <th>Apr 2017 - Mar 2018</th>\n      <th>Apr 2018 - Mar 2019</th>\n      <th>Apr 2019 - Mar 2020</th>\n    </tr>\n  </thead>\n  <tbody>\n    <tr>\n      <th>224</th>\n      <td>Central West</td>\n      <td>Murder *</td>\n      <td>3</td>\n      <td>4</td>\n      <td>3</td>\n      <td>2</td>\n      <td>3</td>\n    </tr>\n    <tr>\n      <th>225</th>\n      <td>Central West</td>\n      <td>Attempted murder</td>\n      <td>0</td>\n      <td>0</td>\n      <td>1</td>\n      <td>1</td>\n      <td>0</td>\n    </tr>\n    <tr>\n      <th>226</th>\n      <td>Central West</td>\n      <td>Non-domestic violence related assault</td>\n      <td>1,126</td>\n      <td>1,155</td>\n      <td>1,084</td>\n      <td>1,156</td>\n      <td>1,103</td>\n    </tr>\n    <tr>\n      <th>227</th>\n      <td>Central West</td>\n      <td>Abduction and kidnapping</td>\n      <td>7</td>\n      <td>9</td>\n      <td>6</td>\n      <td>17</td>\n      <td>8</td>\n    </tr>\n    <tr>\n      <th>228</th>\n      <td>Central West</td>\n      <td>Robbery without a weapon</td>\n      <td>22</td>\n      <td>22</td>\n      <td>18</td>\n      <td>36</td>\n      <td>31</td>\n    </tr>\n    <tr>\n      <th>229</th>\n      <td>Central West</td>\n      <td>Robbery with a firearm</td>\n      <td>2</td>\n      <td>7</td>\n      <td>2</td>\n      <td>2</td>\n      <td>2</td>\n    </tr>\n    <tr>\n      <th>230</th>\n      <td>Central West</td>\n      <td>Arson</td>\n      <td>244</td>\n      <td>263</td>\n      <td>333</td>\n      <td>283</td>\n      <td>256</td>\n    </tr>\n    <tr>\n      <th>231</th>\n      <td>Central West</td>\n      <td>Drugs</td>\n      <td>1</td>\n      <td>0</td>\n      <td>4</td>\n      <td>4</td>\n      <td>1</td>\n    </tr>\n    <tr>\n      <th>232</th>\n      <td>Central West</td>\n      <td>Drugs</td>\n      <td>4</td>\n      <td>8</td>\n      <td>1</td>\n      <td>1</td>\n      <td>0</td>\n    </tr>\n    <tr>\n      <th>233</th>\n      <td>Central West</td>\n      <td>Drugs</td>\n      <td>25</td>\n      <td>29</td>\n      <td>179</td>\n      <td>22</td>\n      <td>30</td>\n    </tr>\n    <tr>\n      <th>234</th>\n      <td>Central West</td>\n      <td>Drugs</td>\n      <td>142</td>\n      <td>148</td>\n      <td>99</td>\n      <td>39</td>\n      <td>244</td>\n    </tr>\n    <tr>\n      <th>235</th>\n      <td>Central West</td>\n      <td>Drugs</td>\n      <td>9</td>\n      <td>12</td>\n      <td>38</td>\n      <td>6</td>\n      <td>8</td>\n    </tr>\n    <tr>\n      <th>236</th>\n      <td>Central West</td>\n      <td>Drugs</td>\n      <td>6</td>\n      <td>11</td>\n      <td>12</td>\n      <td>7</td>\n      <td>7</td>\n    </tr>\n    <tr>\n      <th>237</th>\n      <td>Central West</td>\n      <td>Trespass</td>\n      <td>611</td>\n      <td>570</td>\n      <td>526</td>\n      <td>495</td>\n      <td>639</td>\n    </tr>\n  </tbody>\n</table>\n</div>"
     },
     "metadata": {},
     "execution_count": 18
    }
   ],
   "source": [
    "# Create a new DataFrame that looks into a specific region\n",
    "centralwest_crime_df = no_null_crime_df.loc[no_null_crime_df[\"Region\"] == \"Central West\"]\n",
    "centralwest_crime_df"
   ]
  },
  {
   "cell_type": "code",
   "execution_count": null,
   "metadata": {},
   "outputs": [],
   "source": []
  },
  {
   "cell_type": "code",
   "execution_count": null,
   "metadata": {},
   "outputs": [],
   "source": []
  }
 ],
 "metadata": {
  "kernelspec": {
   "display_name": "Python 3",
   "language": "python",
   "name": "python3"
  },
  "language_info": {
   "codemirror_mode": {
    "name": "ipython",
    "version": 3
   },
   "file_extension": ".py",
   "mimetype": "text/x-python",
   "name": "python",
   "nbconvert_exporter": "python",
   "pygments_lexer": "ipython3",
   "version": "3.7.6-final"
  }
 },
 "nbformat": 4,
 "nbformat_minor": 2
}