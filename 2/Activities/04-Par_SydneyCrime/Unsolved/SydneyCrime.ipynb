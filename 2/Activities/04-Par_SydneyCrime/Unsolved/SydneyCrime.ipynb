{
 "cells": [
  {
   "cell_type": "code",
   "execution_count": 3,
   "metadata": {},
   "outputs": [],
   "source": [
    "# Import Dependencies\n",
    "import pandas as pd"
   ]
  },
  {
   "cell_type": "code",
   "execution_count": 6,
   "metadata": {},
   "outputs": [],
   "source": [
    "# Reference the file where the CSV is located\n",
    "crime_csv_path = \"Resources/Sydney_Crime.csv\"\n",
    "# Import the data into a Pandas DataFrame"
   ]
  },
  {
   "cell_type": "code",
   "execution_count": null,
   "metadata": {},
   "outputs": [],
   "source": []
  },
  {
   "cell_type": "code",
   "execution_count": 7,
   "metadata": {},
   "outputs": [
    {
     "data": {
      "text/html": [
       "<div>\n",
       "<style scoped>\n",
       "    .dataframe tbody tr th:only-of-type {\n",
       "        vertical-align: middle;\n",
       "    }\n",
       "\n",
       "    .dataframe tbody tr th {\n",
       "        vertical-align: top;\n",
       "    }\n",
       "\n",
       "    .dataframe thead th {\n",
       "        text-align: right;\n",
       "    }\n",
       "</style>\n",
       "<table border=\"1\" class=\"dataframe\">\n",
       "  <thead>\n",
       "    <tr style=\"text-align: right;\">\n",
       "      <th></th>\n",
       "      <th>Region</th>\n",
       "      <th>Offence type</th>\n",
       "      <th>Apr 2015 - Mar 2016</th>\n",
       "      <th>Apr 2016 - Mar 2017</th>\n",
       "      <th>Apr 2017 - Mar 2018</th>\n",
       "      <th>Apr 2018 - Mar 2019</th>\n",
       "      <th>Apr 2019 - Mar 2020</th>\n",
       "    </tr>\n",
       "  </thead>\n",
       "  <tbody>\n",
       "    <tr>\n",
       "      <th>0</th>\n",
       "      <td>Greater Sydney - Baulkham Hills and Hawkesbury</td>\n",
       "      <td>Murder *</td>\n",
       "      <td>0</td>\n",
       "      <td>1</td>\n",
       "      <td>0</td>\n",
       "      <td>1</td>\n",
       "      <td>0</td>\n",
       "    </tr>\n",
       "    <tr>\n",
       "      <th>1</th>\n",
       "      <td>Greater Sydney - Baulkham Hills and Hawkesbury</td>\n",
       "      <td>Attempted murder</td>\n",
       "      <td>0</td>\n",
       "      <td>0</td>\n",
       "      <td>0</td>\n",
       "      <td>0</td>\n",
       "      <td>0</td>\n",
       "    </tr>\n",
       "    <tr>\n",
       "      <th>2</th>\n",
       "      <td>Greater Sydney - Baulkham Hills and Hawkesbury</td>\n",
       "      <td>Non-domestic violence related assault</td>\n",
       "      <td>331</td>\n",
       "      <td>336</td>\n",
       "      <td>364</td>\n",
       "      <td>311</td>\n",
       "      <td>353</td>\n",
       "    </tr>\n",
       "    <tr>\n",
       "      <th>3</th>\n",
       "      <td>Greater Sydney - Baulkham Hills and Hawkesbury</td>\n",
       "      <td>Abduction and kidnapping</td>\n",
       "      <td>1</td>\n",
       "      <td>1</td>\n",
       "      <td>3</td>\n",
       "      <td>3</td>\n",
       "      <td>0</td>\n",
       "    </tr>\n",
       "    <tr>\n",
       "      <th>4</th>\n",
       "      <td>Greater Sydney - Baulkham Hills and Hawkesbury</td>\n",
       "      <td>Robbery without a weapon</td>\n",
       "      <td>14</td>\n",
       "      <td>13</td>\n",
       "      <td>10</td>\n",
       "      <td>14</td>\n",
       "      <td>15</td>\n",
       "    </tr>\n",
       "  </tbody>\n",
       "</table>\n",
       "</div>"
      ],
      "text/plain": [
       "                                           Region  \\\n",
       "0  Greater Sydney - Baulkham Hills and Hawkesbury   \n",
       "1  Greater Sydney - Baulkham Hills and Hawkesbury   \n",
       "2  Greater Sydney - Baulkham Hills and Hawkesbury   \n",
       "3  Greater Sydney - Baulkham Hills and Hawkesbury   \n",
       "4  Greater Sydney - Baulkham Hills and Hawkesbury   \n",
       "\n",
       "                            Offence type Apr 2015 - Mar 2016  \\\n",
       "0                               Murder *                   0   \n",
       "1                       Attempted murder                   0   \n",
       "2  Non-domestic violence related assault                 331   \n",
       "3               Abduction and kidnapping                   1   \n",
       "4               Robbery without a weapon                  14   \n",
       "\n",
       "  Apr 2016 - Mar 2017 Apr 2017 - Mar 2018 Apr 2018 - Mar 2019  \\\n",
       "0                   1                   0                   1   \n",
       "1                   0                   0                   0   \n",
       "2                 336                 364                 311   \n",
       "3                   1                   3                   3   \n",
       "4                  13                  10                  14   \n",
       "\n",
       "  Apr 2019 - Mar 2020  \n",
       "0                   0  \n",
       "1                   0  \n",
       "2                 353  \n",
       "3                   0  \n",
       "4                  15  "
      ]
     },
     "execution_count": 7,
     "metadata": {},
     "output_type": "execute_result"
    }
   ],
   "source": [
    "# look for missing values\n",
    "crime_df = pd.read_csv(crime_csv_path)\n",
    "crime_df.head()"
   ]
  },
  {
   "cell_type": "code",
   "execution_count": 13,
   "metadata": {},
   "outputs": [
    {
     "data": {
      "text/plain": [
       "Region                 406\n",
       "Offence type           406\n",
       "Apr 2015 - Mar 2016    405\n",
       "Apr 2016 - Mar 2017    405\n",
       "Apr 2017 - Mar 2018    406\n",
       "Apr 2018 - Mar 2019    405\n",
       "Apr 2019 - Mar 2020    405\n",
       "dtype: int64"
      ]
     },
     "execution_count": 13,
     "metadata": {},
     "output_type": "execute_result"
    }
   ],
   "source": [
    "# verify counts\n",
    "crime_df.count()"
   ]
  },
  {
   "cell_type": "code",
   "execution_count": 12,
   "metadata": {},
   "outputs": [
    {
     "data": {
      "text/plain": [
       "Region                 402\n",
       "Offence type           402\n",
       "Apr 2015 - Mar 2016    402\n",
       "Apr 2016 - Mar 2017    402\n",
       "Apr 2017 - Mar 2018    402\n",
       "Apr 2018 - Mar 2019    402\n",
       "Apr 2019 - Mar 2020    402\n",
       "dtype: int64"
      ]
     },
     "execution_count": 12,
     "metadata": {},
     "output_type": "execute_result"
    }
   ],
   "source": [
    "no_null_crime_df = crime_df.dropna(how=\"any\")\n",
    "no_null_crime_df.count()"
   ]
  },
  {
   "cell_type": "code",
   "execution_count": 21,
   "metadata": {
    "scrolled": true
   },
   "outputs": [
    {
     "data": {
      "text/plain": [
       "Dealing, trafficking in cocaine          29\n",
       "Non-domestic violence related assault    29\n",
       "Dealing, trafficking in narcotics        29\n",
       "Arson                                    29\n",
       "Dealing, trafficking in other drugs      29\n",
       "Robbery with a firearm                   29\n",
       "Attempted murder                         29\n",
       "Dealing, trafficking in cannabis         29\n",
       "Dealing, trafficking in ecstasy          29\n",
       "Trespass                                 29\n",
       "Dealing, trafficking in amphetamines     28\n",
       "Robbery without a weapon                 28\n",
       "Murder *                                 28\n",
       "Abduction and kidnapping                 28\n",
       "Name: Offence type, dtype: int64"
      ]
     },
     "execution_count": 21,
     "metadata": {},
     "output_type": "execute_result"
    }
   ],
   "source": [
    "# Check to see if there are any values with mispelled or similar values in \"Offence Type\"\n",
    "no_null_crime_df[\"Offence type\"].value_counts()"
   ]
  },
  {
   "cell_type": "code",
   "execution_count": 22,
   "metadata": {},
   "outputs": [],
   "source": [
    "# Combine similar offences\n",
    "no_null_crime_df=no_null_crime_df.replace()"
   ]
  },
  {
   "cell_type": "code",
   "execution_count": null,
   "metadata": {},
   "outputs": [],
   "source": [
    "# Check to see if you comnbined similar offences correctly in \"Offence Type\"."
   ]
  },
  {
   "cell_type": "code",
   "execution_count": null,
   "metadata": {},
   "outputs": [],
   "source": [
    "# Create a new DataFrame that looks into a specific region"
   ]
  }
 ],
 "metadata": {
  "kernelspec": {
   "display_name": "Python [conda env:PythonData]",
   "language": "python",
   "name": "conda-env-PythonData-py"
  },
  "language_info": {
   "codemirror_mode": {
    "name": "ipython",
    "version": 3
   },
   "file_extension": ".py",
   "mimetype": "text/x-python",
   "name": "python",
   "nbconvert_exporter": "python",
   "pygments_lexer": "ipython3",
   "version": "3.7.1"
  }
 },
 "nbformat": 4,
 "nbformat_minor": 4
}
