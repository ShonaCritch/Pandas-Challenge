{
 "cells": [
  {
   "cell_type": "code",
   "execution_count": 58,
   "metadata": {},
   "outputs": [],
   "source": [
    "import pandas as pd\n",
    "import numpy as np"
   ]
  },
  {
   "cell_type": "code",
   "execution_count": 59,
   "metadata": {},
   "outputs": [],
   "source": [
    "csv_path = \"Resources2/purchase_data.csv\""
   ]
  },
  {
   "cell_type": "code",
   "execution_count": 60,
   "metadata": {},
   "outputs": [
    {
     "data": {
      "text/html": [
       "<div>\n",
       "<style scoped>\n",
       "    .dataframe tbody tr th:only-of-type {\n",
       "        vertical-align: middle;\n",
       "    }\n",
       "\n",
       "    .dataframe tbody tr th {\n",
       "        vertical-align: top;\n",
       "    }\n",
       "\n",
       "    .dataframe thead th {\n",
       "        text-align: right;\n",
       "    }\n",
       "</style>\n",
       "<table border=\"1\" class=\"dataframe\">\n",
       "  <thead>\n",
       "    <tr style=\"text-align: right;\">\n",
       "      <th></th>\n",
       "      <th>Purchase ID</th>\n",
       "      <th>SN</th>\n",
       "      <th>Age</th>\n",
       "      <th>Gender</th>\n",
       "      <th>Item ID</th>\n",
       "      <th>Item Name</th>\n",
       "      <th>Price</th>\n",
       "    </tr>\n",
       "  </thead>\n",
       "  <tbody>\n",
       "    <tr>\n",
       "      <th>0</th>\n",
       "      <td>0</td>\n",
       "      <td>Lisim78</td>\n",
       "      <td>20</td>\n",
       "      <td>Male</td>\n",
       "      <td>108</td>\n",
       "      <td>Extraction, Quickblade Of Trembling Hands</td>\n",
       "      <td>3.53</td>\n",
       "    </tr>\n",
       "    <tr>\n",
       "      <th>1</th>\n",
       "      <td>1</td>\n",
       "      <td>Lisovynya38</td>\n",
       "      <td>40</td>\n",
       "      <td>Male</td>\n",
       "      <td>143</td>\n",
       "      <td>Frenzied Scimitar</td>\n",
       "      <td>1.56</td>\n",
       "    </tr>\n",
       "    <tr>\n",
       "      <th>2</th>\n",
       "      <td>2</td>\n",
       "      <td>Ithergue48</td>\n",
       "      <td>24</td>\n",
       "      <td>Male</td>\n",
       "      <td>92</td>\n",
       "      <td>Final Critic</td>\n",
       "      <td>4.88</td>\n",
       "    </tr>\n",
       "    <tr>\n",
       "      <th>3</th>\n",
       "      <td>3</td>\n",
       "      <td>Chamassasya86</td>\n",
       "      <td>24</td>\n",
       "      <td>Male</td>\n",
       "      <td>100</td>\n",
       "      <td>Blindscythe</td>\n",
       "      <td>3.27</td>\n",
       "    </tr>\n",
       "    <tr>\n",
       "      <th>4</th>\n",
       "      <td>4</td>\n",
       "      <td>Iskosia90</td>\n",
       "      <td>23</td>\n",
       "      <td>Male</td>\n",
       "      <td>131</td>\n",
       "      <td>Fury</td>\n",
       "      <td>1.44</td>\n",
       "    </tr>\n",
       "  </tbody>\n",
       "</table>\n",
       "</div>"
      ],
      "text/plain": [
       "   Purchase ID             SN  Age Gender  Item ID  \\\n",
       "0            0        Lisim78   20   Male      108   \n",
       "1            1    Lisovynya38   40   Male      143   \n",
       "2            2     Ithergue48   24   Male       92   \n",
       "3            3  Chamassasya86   24   Male      100   \n",
       "4            4      Iskosia90   23   Male      131   \n",
       "\n",
       "                                   Item Name  Price  \n",
       "0  Extraction, Quickblade Of Trembling Hands   3.53  \n",
       "1                          Frenzied Scimitar   1.56  \n",
       "2                               Final Critic   4.88  \n",
       "3                                Blindscythe   3.27  \n",
       "4                                       Fury   1.44  "
      ]
     },
     "execution_count": 60,
     "metadata": {},
     "output_type": "execute_result"
    }
   ],
   "source": [
    "purchase_data_df = pd.read_csv(csv_path, encoding=\"ascii\")\n",
    "purchase_data_df.head()"
   ]
  },
  {
   "cell_type": "code",
   "execution_count": 61,
   "metadata": {},
   "outputs": [
    {
     "name": "stdout",
     "output_type": "stream",
     "text": [
      "Total number of players = 576\n"
     ]
    }
   ],
   "source": [
    "### Player Count\n",
    "# Total Number of Players\n",
    "individual_player_count = len(purchase_data_df[\"SN\"].unique().tolist())\n",
    "print (\"Total number of players = \"+str(individual_player_count))"
   ]
  },
  {
   "cell_type": "code",
   "execution_count": 62,
   "metadata": {},
   "outputs": [
    {
     "data": {
      "text/html": [
       "<div>\n",
       "<style scoped>\n",
       "    .dataframe tbody tr th:only-of-type {\n",
       "        vertical-align: middle;\n",
       "    }\n",
       "\n",
       "    .dataframe tbody tr th {\n",
       "        vertical-align: top;\n",
       "    }\n",
       "\n",
       "    .dataframe thead th {\n",
       "        text-align: right;\n",
       "    }\n",
       "</style>\n",
       "<table border=\"1\" class=\"dataframe\">\n",
       "  <thead>\n",
       "    <tr style=\"text-align: right;\">\n",
       "      <th></th>\n",
       "      <th>Total_Individual_Players</th>\n",
       "    </tr>\n",
       "  </thead>\n",
       "  <tbody>\n",
       "    <tr>\n",
       "      <th>0</th>\n",
       "      <td>576</td>\n",
       "    </tr>\n",
       "  </tbody>\n",
       "</table>\n",
       "</div>"
      ],
      "text/plain": [
       "   Total_Individual_Players\n",
       "0                       576"
      ]
     },
     "execution_count": 62,
     "metadata": {},
     "output_type": "execute_result"
    }
   ],
   "source": [
    "individual_players = [[individual_player_count]]\n",
    "individual_players_df= pd.DataFrame(individual_players, columns= [\"Total_Individual_Players\"])\n",
    "individual_players_df"
   ]
  },
  {
   "cell_type": "code",
   "execution_count": 63,
   "metadata": {},
   "outputs": [
    {
     "name": "stdout",
     "output_type": "stream",
     "text": [
      "Total Number of Purchases = 780\n"
     ]
    }
   ],
   "source": [
    "# Total Number of Purchases\n",
    "total_purchases = purchase_data_df[\"Purchase ID\"].count()\n",
    "print (\"Total Number of Purchases = \"+str(total_purchases))"
   ]
  },
  {
   "cell_type": "code",
   "execution_count": 64,
   "metadata": {},
   "outputs": [
    {
     "name": "stdout",
     "output_type": "stream",
     "text": [
      "Number of Unique Items = 179\n"
     ]
    }
   ],
   "source": [
    "# Number of Unique Items\n",
    "Unique_Items = len(purchase_data_df[\"Item ID\"].unique().tolist())\n",
    "print (\"Number of Unique Items = \"+str(Unique_Items))"
   ]
  },
  {
   "cell_type": "code",
   "execution_count": 65,
   "metadata": {},
   "outputs": [
    {
     "name": "stdout",
     "output_type": "stream",
     "text": [
      "Total_Revenue = $2379.77\n"
     ]
    }
   ],
   "source": [
    "# Total Revenue\n",
    "Total_Revenue = purchase_data_df[\"Price\"].sum()\n",
    "print (\"Total_Revenue = $\"+str(Total_Revenue))"
   ]
  },
  {
   "cell_type": "code",
   "execution_count": 66,
   "metadata": {},
   "outputs": [
    {
     "name": "stdout",
     "output_type": "stream",
     "text": [
      "Average purchase price = $3.05\n"
     ]
    }
   ],
   "source": [
    "## Purchasing Analysis (Total)\n",
    "# Average Purchase Price\n",
    "average_price = round(purchase_data_df[\"Price\"].mean(),2)\n",
    "print(\"Average purchase price = $\"+str(average_price))\n"
   ]
  },
  {
   "cell_type": "code",
   "execution_count": 67,
   "metadata": {},
   "outputs": [
    {
     "data": {
      "text/html": [
       "<div>\n",
       "<style scoped>\n",
       "    .dataframe tbody tr th:only-of-type {\n",
       "        vertical-align: middle;\n",
       "    }\n",
       "\n",
       "    .dataframe tbody tr th {\n",
       "        vertical-align: top;\n",
       "    }\n",
       "\n",
       "    .dataframe thead th {\n",
       "        text-align: right;\n",
       "    }\n",
       "</style>\n",
       "<table border=\"1\" class=\"dataframe\">\n",
       "  <thead>\n",
       "    <tr style=\"text-align: right;\">\n",
       "      <th></th>\n",
       "      <th>Unique_Items</th>\n",
       "      <th>Average_Price</th>\n",
       "      <th>Total_Purchases</th>\n",
       "      <th>Total_Revenue</th>\n",
       "    </tr>\n",
       "  </thead>\n",
       "  <tbody>\n",
       "    <tr>\n",
       "      <th>0</th>\n",
       "      <td>179</td>\n",
       "      <td>3.05</td>\n",
       "      <td>780</td>\n",
       "      <td>2379.77</td>\n",
       "    </tr>\n",
       "  </tbody>\n",
       "</table>\n",
       "</div>"
      ],
      "text/plain": [
       "   Unique_Items  Average_Price  Total_Purchases  Total_Revenue\n",
       "0           179           3.05              780        2379.77"
      ]
     },
     "execution_count": 67,
     "metadata": {},
     "output_type": "execute_result"
    }
   ],
   "source": [
    "# create dataframe to display the financial analysis results\n",
    "fin_analysis = [[Unique_Items,average_price,total_purchases,\n",
    "                Total_Revenue]]\n",
    "fin_analysis_df = pd.DataFrame(fin_analysis, columns= [\"Unique_Items\",\n",
    "                                                       \"Average_Price\",\n",
    "                                                       \"Total_Purchases\",\n",
    "                                                       \"Total_Revenue\"])\n",
    "fin_analysis_df"
   ]
  },
  {
   "cell_type": "code",
   "execution_count": 68,
   "metadata": {},
   "outputs": [
    {
     "data": {
      "text/html": [
       "<div>\n",
       "<style scoped>\n",
       "    .dataframe tbody tr th:only-of-type {\n",
       "        vertical-align: middle;\n",
       "    }\n",
       "\n",
       "    .dataframe tbody tr th {\n",
       "        vertical-align: top;\n",
       "    }\n",
       "\n",
       "    .dataframe thead th {\n",
       "        text-align: right;\n",
       "    }\n",
       "</style>\n",
       "<table border=\"1\" class=\"dataframe\">\n",
       "  <thead>\n",
       "    <tr style=\"text-align: right;\">\n",
       "      <th></th>\n",
       "      <th>SN</th>\n",
       "      <th>Gender</th>\n",
       "    </tr>\n",
       "  </thead>\n",
       "  <tbody>\n",
       "    <tr>\n",
       "      <th>0</th>\n",
       "      <td>Lisim78</td>\n",
       "      <td>Male</td>\n",
       "    </tr>\n",
       "    <tr>\n",
       "      <th>1</th>\n",
       "      <td>Lisovynya38</td>\n",
       "      <td>Male</td>\n",
       "    </tr>\n",
       "    <tr>\n",
       "      <th>2</th>\n",
       "      <td>Ithergue48</td>\n",
       "      <td>Male</td>\n",
       "    </tr>\n",
       "    <tr>\n",
       "      <th>3</th>\n",
       "      <td>Chamassasya86</td>\n",
       "      <td>Male</td>\n",
       "    </tr>\n",
       "    <tr>\n",
       "      <th>4</th>\n",
       "      <td>Iskosia90</td>\n",
       "      <td>Male</td>\n",
       "    </tr>\n",
       "  </tbody>\n",
       "</table>\n",
       "</div>"
      ],
      "text/plain": [
       "              SN Gender\n",
       "0        Lisim78   Male\n",
       "1    Lisovynya38   Male\n",
       "2     Ithergue48   Male\n",
       "3  Chamassasya86   Male\n",
       "4      Iskosia90   Male"
      ]
     },
     "execution_count": 68,
     "metadata": {},
     "output_type": "execute_result"
    }
   ],
   "source": [
    "#create a gender dataframe that contains player SN and Gender only\n",
    "individual_gender_df = purchase_data_df[[\"SN\",\"Gender\"]]\n",
    "individual_gender_df.head()"
   ]
  },
  {
   "cell_type": "code",
   "execution_count": 69,
   "metadata": {},
   "outputs": [
    {
     "data": {
      "text/plain": [
       "array(['Male', 'Other / Non-Disclosed', 'Female'], dtype=object)"
      ]
     },
     "execution_count": 69,
     "metadata": {},
     "output_type": "execute_result"
    }
   ],
   "source": [
    "# Check column values for Gender\n",
    "individual_gender_df[\"Gender\"].unique()"
   ]
  },
  {
   "cell_type": "code",
   "execution_count": 70,
   "metadata": {},
   "outputs": [
    {
     "data": {
      "text/plain": [
       "576"
      ]
     },
     "execution_count": 70,
     "metadata": {},
     "output_type": "execute_result"
    }
   ],
   "source": [
    "#remove duplicates from individual gender df\n",
    "individual_gender_df=individual_gender_df.drop_duplicates(subset='SN', keep=\"first\")\n",
    "individual_player_gender = len(individual_gender_df)\n",
    "individual_player_gender"
   ]
  },
  {
   "cell_type": "code",
   "execution_count": 71,
   "metadata": {},
   "outputs": [
    {
     "name": "stdout",
     "output_type": "stream",
     "text": [
      "Number of Males = 484\n",
      "Percentage of Males = 84.0\n",
      "Number of Females = 81\n",
      "Percentage of Females = 14.0\n",
      "Number of Others/NonDisclosed = 11\n",
      "Percentage of Others/NonDisclosed = 2.0\n"
     ]
    }
   ],
   "source": [
    "#Gender Demographics\n",
    "# Count of Individual Males\n",
    "individual_males_df=individual_gender_df.loc[individual_gender_df[\"Gender\"]==\"Male\", :]\n",
    "individual_males = len(individual_males_df)\n",
    "print(\"Number of Males = \"+str(individual_males))\n",
    "#Percentage of Male Players\n",
    "percentage_males = round((individual_males/individual_player_gender)*100,0)\n",
    "print(\"Percentage of Males = \"+ str(percentage_males))\n",
    "#Percentage and Count of Female Players\n",
    "individual_females_df = individual_gender_df.loc[individual_gender_df[\"Gender\"]==\"Female\", :]\n",
    "individual_females = len(individual_females_df)\n",
    "print(\"Number of Females = \"+str(individual_females))\n",
    "percentage_females = round((individual_females/individual_player_gender)*100,0)\n",
    "print(\"Percentage of Females = \"+ str(percentage_females))\n",
    "#Percentage and Count of Other / Non-Disclosed\n",
    "individual_others=individual_player_gender-individual_males-individual_females\n",
    "print(\"Number of Others/NonDisclosed = \"+str(individual_others))\n",
    "percentage_others = round((individual_others/individual_player_gender)*100,0)\n",
    "print(\"Percentage of Others/NonDisclosed = \"+ str(percentage_others))"
   ]
  },
  {
   "cell_type": "code",
   "execution_count": 72,
   "metadata": {},
   "outputs": [
    {
     "data": {
      "text/html": [
       "<div>\n",
       "<style scoped>\n",
       "    .dataframe tbody tr th:only-of-type {\n",
       "        vertical-align: middle;\n",
       "    }\n",
       "\n",
       "    .dataframe tbody tr th {\n",
       "        vertical-align: top;\n",
       "    }\n",
       "\n",
       "    .dataframe thead th {\n",
       "        text-align: right;\n",
       "    }\n",
       "</style>\n",
       "<table border=\"1\" class=\"dataframe\">\n",
       "  <thead>\n",
       "    <tr style=\"text-align: right;\">\n",
       "      <th></th>\n",
       "      <th>Gender</th>\n",
       "      <th>Total</th>\n",
       "      <th>Percentage</th>\n",
       "    </tr>\n",
       "  </thead>\n",
       "  <tbody>\n",
       "    <tr>\n",
       "      <th>0</th>\n",
       "      <td>Male</td>\n",
       "      <td>484</td>\n",
       "      <td>84.0</td>\n",
       "    </tr>\n",
       "    <tr>\n",
       "      <th>1</th>\n",
       "      <td>Female</td>\n",
       "      <td>81</td>\n",
       "      <td>14.0</td>\n",
       "    </tr>\n",
       "    <tr>\n",
       "      <th>2</th>\n",
       "      <td>Others/Non_Disclosed</td>\n",
       "      <td>11</td>\n",
       "      <td>2.0</td>\n",
       "    </tr>\n",
       "  </tbody>\n",
       "</table>\n",
       "</div>"
      ],
      "text/plain": [
       "                 Gender  Total  Percentage\n",
       "0                  Male    484        84.0\n",
       "1                Female     81        14.0\n",
       "2  Others/Non_Disclosed     11         2.0"
      ]
     },
     "execution_count": 72,
     "metadata": {},
     "output_type": "execute_result"
    }
   ],
   "source": [
    "#Create a dataframe to display Gender Demographics as a table\n",
    "gender_display_df = pd.DataFrame({\n",
    "    \"Gender\":[\"Male\",\"Female\",\"Others/Non_Disclosed\"],\n",
    "    \"Total\":[individual_males, individual_females, individual_others],\n",
    "    \"Percentage\":[percentage_males, percentage_females, percentage_others]\n",
    "})\n",
    "gender_display_df"
   ]
  },
  {
   "cell_type": "code",
   "execution_count": 73,
   "metadata": {},
   "outputs": [
    {
     "name": "stdout",
     "output_type": "stream",
     "text": [
      "Gender\n",
      "Female                   113\n",
      "Male                     652\n",
      "Other / Non-Disclosed     15\n",
      "Name: Gender, dtype: int64\n",
      "Gender\n",
      "Female                   3.20\n",
      "Male                     3.02\n",
      "Other / Non-Disclosed    3.35\n",
      "Name: Price, dtype: float64\n",
      "Gender\n",
      "Female                    361.94\n",
      "Male                     1967.64\n",
      "Other / Non-Disclosed      50.19\n",
      "Name: Price, dtype: float64\n"
     ]
    }
   ],
   "source": [
    " #Purchasing Analysis (Gender)\n",
    "# Total Number of Purchases by Gender\n",
    "gender_group = purchase_data_df.groupby(\"Gender\")\n",
    "purchase_count_gender =gender_group[\"Gender\"].count()\n",
    "print (str(purchase_count_gender))\n",
    "\n",
    "# Avg. purchase price by Gender\n",
    "av_price_gender = round(gender_group[\"Price\"].mean(),2)\n",
    "print (str(av_price_gender))\n",
    "\n",
    "#Total Purchase Value by Gender\n",
    "total_price_gender = round(gender_group[\"Price\"].sum(),2)\n",
    "print (str(total_price_gender))\n",
    "\n",
    "#create a purchase analysis by gender dataframe with the purchase totals and average price showing\n",
    "\n",
    "#Add new column to purchase analysis by gender dataframe for calculated avg. purchase total per person\n",
    "\n"
   ]
  },
  {
   "cell_type": "code",
   "execution_count": 74,
   "metadata": {},
   "outputs": [
    {
     "data": {
      "text/plain": [
       "Index(['Purchase ID', 'SN', 'Age', 'Gender', 'Item ID', 'Item Name', 'Price'], dtype='object')"
      ]
     },
     "execution_count": 74,
     "metadata": {},
     "output_type": "execute_result"
    }
   ],
   "source": [
    "purchase_data_df.columns.unique()"
   ]
  },
  {
   "cell_type": "code",
   "execution_count": 75,
   "metadata": {},
   "outputs": [
    {
     "data": {
      "text/html": [
       "<div>\n",
       "<style scoped>\n",
       "    .dataframe tbody tr th:only-of-type {\n",
       "        vertical-align: middle;\n",
       "    }\n",
       "\n",
       "    .dataframe tbody tr th {\n",
       "        vertical-align: top;\n",
       "    }\n",
       "\n",
       "    .dataframe thead tr th {\n",
       "        text-align: left;\n",
       "    }\n",
       "\n",
       "    .dataframe thead tr:last-of-type th {\n",
       "        text-align: right;\n",
       "    }\n",
       "</style>\n",
       "<table border=\"1\" class=\"dataframe\">\n",
       "  <thead>\n",
       "    <tr>\n",
       "      <th></th>\n",
       "      <th colspan=\"2\" halign=\"left\">Price</th>\n",
       "      <th>Purchase ID</th>\n",
       "    </tr>\n",
       "    <tr>\n",
       "      <th></th>\n",
       "      <th>mean</th>\n",
       "      <th>sum</th>\n",
       "      <th>len</th>\n",
       "    </tr>\n",
       "    <tr>\n",
       "      <th>Gender</th>\n",
       "      <th></th>\n",
       "      <th></th>\n",
       "      <th></th>\n",
       "    </tr>\n",
       "  </thead>\n",
       "  <tbody>\n",
       "    <tr>\n",
       "      <th>Female</th>\n",
       "      <td>3.203009</td>\n",
       "      <td>361.94</td>\n",
       "      <td>113</td>\n",
       "    </tr>\n",
       "    <tr>\n",
       "      <th>Male</th>\n",
       "      <td>3.017853</td>\n",
       "      <td>1967.64</td>\n",
       "      <td>652</td>\n",
       "    </tr>\n",
       "    <tr>\n",
       "      <th>Other / Non-Disclosed</th>\n",
       "      <td>3.346000</td>\n",
       "      <td>50.19</td>\n",
       "      <td>15</td>\n",
       "    </tr>\n",
       "  </tbody>\n",
       "</table>\n",
       "</div>"
      ],
      "text/plain": [
       "                          Price          Purchase ID\n",
       "                           mean      sum         len\n",
       "Gender                                              \n",
       "Female                 3.203009   361.94         113\n",
       "Male                   3.017853  1967.64         652\n",
       "Other / Non-Disclosed  3.346000    50.19          15"
      ]
     },
     "execution_count": 75,
     "metadata": {},
     "output_type": "execute_result"
    }
   ],
   "source": [
    "#Purchasing Analysis (Gender) repeat process as for indivdual gender analysis\n",
    " \n",
    "#Run basic calculations to obtain purchase count, avg. purchase price, avg. purchase total per person by gender\n",
    "gender_pivot = pd.pivot_table(purchase_data_df, \n",
    "                              values=['Purchase ID', 'Price'], index=[\"Gender\"],\n",
    "                              aggfunc={'Purchase ID':[len],\n",
    "                                       'Price':[sum,np.mean]})\n",
    "gender_pivot_df = gender_pivot\n",
    "gender_pivot_df"
   ]
  },
  {
   "cell_type": "code",
   "execution_count": 76,
   "metadata": {},
   "outputs": [
    {
     "data": {
      "text/html": [
       "<div>\n",
       "<style scoped>\n",
       "    .dataframe tbody tr th:only-of-type {\n",
       "        vertical-align: middle;\n",
       "    }\n",
       "\n",
       "    .dataframe tbody tr th {\n",
       "        vertical-align: top;\n",
       "    }\n",
       "\n",
       "    .dataframe thead th {\n",
       "        text-align: right;\n",
       "    }\n",
       "</style>\n",
       "<table border=\"1\" class=\"dataframe\">\n",
       "  <thead>\n",
       "    <tr style=\"text-align: right;\">\n",
       "      <th></th>\n",
       "      <th>Price_mean</th>\n",
       "      <th>Price_sum</th>\n",
       "      <th>Purchase ID_len</th>\n",
       "    </tr>\n",
       "    <tr>\n",
       "      <th>Gender</th>\n",
       "      <th></th>\n",
       "      <th></th>\n",
       "      <th></th>\n",
       "    </tr>\n",
       "  </thead>\n",
       "  <tbody>\n",
       "    <tr>\n",
       "      <th>Female</th>\n",
       "      <td>3.203009</td>\n",
       "      <td>361.94</td>\n",
       "      <td>113</td>\n",
       "    </tr>\n",
       "    <tr>\n",
       "      <th>Male</th>\n",
       "      <td>3.017853</td>\n",
       "      <td>1967.64</td>\n",
       "      <td>652</td>\n",
       "    </tr>\n",
       "    <tr>\n",
       "      <th>Other / Non-Disclosed</th>\n",
       "      <td>3.346000</td>\n",
       "      <td>50.19</td>\n",
       "      <td>15</td>\n",
       "    </tr>\n",
       "  </tbody>\n",
       "</table>\n",
       "</div>"
      ],
      "text/plain": [
       "                       Price_mean  Price_sum  Purchase ID_len\n",
       "Gender                                                       \n",
       "Female                   3.203009     361.94              113\n",
       "Male                     3.017853    1967.64              652\n",
       "Other / Non-Disclosed    3.346000      50.19               15"
      ]
     },
     "execution_count": 76,
     "metadata": {},
     "output_type": "execute_result"
    }
   ],
   "source": [
    "# Use map and join to coalesce column headers in pivot data frame\n",
    "gender_pivot_df.columns = list(map(\"_\".join, gender_pivot_df.columns))\n",
    "gender_pivot_df\n",
    "\n",
    "#gender_analysis_df[\"mean\"] = gender_pivot_df[\"mean\"].map(\"${:.2f}\".format)\n",
    "#file_df[\"population\"] = file_df[\"population\"].map(\"{:,}\".format)\n",
    "#file_df[\"other\"] = file_df[\"other\"].map(\"{:.2f}\".format)\n",
    "#file_df.head()\n",
    "\n"
   ]
  },
  {
   "cell_type": "code",
   "execution_count": 77,
   "metadata": {},
   "outputs": [
    {
     "data": {
      "text/plain": [
       "Index(['Price_mean', 'Price_sum', 'Purchase ID_len'], dtype='object')"
      ]
     },
     "execution_count": 77,
     "metadata": {},
     "output_type": "execute_result"
    }
   ],
   "source": [
    "gender_pivot_df.columns.unique()"
   ]
  },
  {
   "cell_type": "code",
   "execution_count": 78,
   "metadata": {},
   "outputs": [
    {
     "data": {
      "text/html": [
       "<div>\n",
       "<style scoped>\n",
       "    .dataframe tbody tr th:only-of-type {\n",
       "        vertical-align: middle;\n",
       "    }\n",
       "\n",
       "    .dataframe tbody tr th {\n",
       "        vertical-align: top;\n",
       "    }\n",
       "\n",
       "    .dataframe thead th {\n",
       "        text-align: right;\n",
       "    }\n",
       "</style>\n",
       "<table border=\"1\" class=\"dataframe\">\n",
       "  <thead>\n",
       "    <tr style=\"text-align: right;\">\n",
       "      <th></th>\n",
       "      <th>Average_Purchase_Price</th>\n",
       "      <th>Total_Price_Value</th>\n",
       "      <th>Purchase_Count</th>\n",
       "    </tr>\n",
       "    <tr>\n",
       "      <th>Gender</th>\n",
       "      <th></th>\n",
       "      <th></th>\n",
       "      <th></th>\n",
       "    </tr>\n",
       "  </thead>\n",
       "  <tbody>\n",
       "    <tr>\n",
       "      <th>Female</th>\n",
       "      <td>3.203009</td>\n",
       "      <td>361.94</td>\n",
       "      <td>113</td>\n",
       "    </tr>\n",
       "    <tr>\n",
       "      <th>Male</th>\n",
       "      <td>3.017853</td>\n",
       "      <td>1967.64</td>\n",
       "      <td>652</td>\n",
       "    </tr>\n",
       "    <tr>\n",
       "      <th>Other / Non-Disclosed</th>\n",
       "      <td>3.346000</td>\n",
       "      <td>50.19</td>\n",
       "      <td>15</td>\n",
       "    </tr>\n",
       "  </tbody>\n",
       "</table>\n",
       "</div>"
      ],
      "text/plain": [
       "                       Average_Purchase_Price  Total_Price_Value  \\\n",
       "Gender                                                             \n",
       "Female                               3.203009             361.94   \n",
       "Male                                 3.017853            1967.64   \n",
       "Other / Non-Disclosed                3.346000              50.19   \n",
       "\n",
       "                       Purchase_Count  \n",
       "Gender                                 \n",
       "Female                            113  \n",
       "Male                              652  \n",
       "Other / Non-Disclosed              15  "
      ]
     },
     "execution_count": 78,
     "metadata": {},
     "output_type": "execute_result"
    }
   ],
   "source": [
    "# rename gender pivot table headers\n",
    "gender_pivot_rename_df=gender_pivot_df.rename(columns={\"Price_mean\":\"Average_Purchase_Price\",\n",
    "                                                       \"Price_sum\":\"Total_Price_Value\",\n",
    "                                                       \"Purchase ID_len\":\"Purchase_Count\"\n",
    "                                                      })\n",
    "gender_pivot_rename_df"
   ]
  },
  {
   "cell_type": "code",
   "execution_count": 79,
   "metadata": {},
   "outputs": [
    {
     "name": "stdout",
     "output_type": "stream",
     "text": [
      "Males total price value = 1967.6399999999994\n",
      "Females total price value = 361.93999999999966\n",
      "Others total price value = 50.190000000000005\n"
     ]
    }
   ],
   "source": [
    "#use loc to filter on gender and create variable for gender total price values\n",
    "males_total_price_value = gender_pivot_rename_df.iloc[1,1]\n",
    "print(\"Males total price value = \"+str(males_total_price_value))\n",
    "#females_total_price_value\n",
    "females_total_price_value = gender_pivot_rename_df.iloc[0,1]\n",
    "print(\"Females total price value = \"+str(females_total_price_value))\n",
    "#others_total_price_value\n",
    "others_total_price_value = gender_pivot_rename_df.iloc[2,1]\n",
    "print(\"Others total price value = \"+str(others_total_price_value))"
   ]
  },
  {
   "cell_type": "code",
   "execution_count": 80,
   "metadata": {},
   "outputs": [
    {
     "name": "stdout",
     "output_type": "stream",
     "text": [
      "Average price per male = 4.07\n",
      "Average price per female = 4.47\n",
      "Average price per other = 4.56\n"
     ]
    }
   ],
   "source": [
    "#create variables holding calculated avg. price per person \n",
    "male_av_price_pp = round((males_total_price_value/individual_males),2)\n",
    "print(\"Average price per male = \"+str(male_av_price_pp))\n",
    "female_av_price_pp = round((females_total_price_value/individual_females),2)\n",
    "print(\"Average price per female = \"+str(female_av_price_pp))\n",
    "other_av_price_pp = round((others_total_price_value/individual_others),2)\n",
    "print(\"Average price per other = \"+str(other_av_price_pp))"
   ]
  },
  {
   "cell_type": "code",
   "execution_count": 81,
   "metadata": {},
   "outputs": [
    {
     "data": {
      "text/html": [
       "<div>\n",
       "<style scoped>\n",
       "    .dataframe tbody tr th:only-of-type {\n",
       "        vertical-align: middle;\n",
       "    }\n",
       "\n",
       "    .dataframe tbody tr th {\n",
       "        vertical-align: top;\n",
       "    }\n",
       "\n",
       "    .dataframe thead th {\n",
       "        text-align: right;\n",
       "    }\n",
       "</style>\n",
       "<table border=\"1\" class=\"dataframe\">\n",
       "  <thead>\n",
       "    <tr style=\"text-align: right;\">\n",
       "      <th></th>\n",
       "      <th>Average_Purchase_Price</th>\n",
       "      <th>Total_Price_Value</th>\n",
       "      <th>Purchase_Count</th>\n",
       "      <th>Average_Total_Purchase_per_Person</th>\n",
       "    </tr>\n",
       "    <tr>\n",
       "      <th>Gender</th>\n",
       "      <th></th>\n",
       "      <th></th>\n",
       "      <th></th>\n",
       "      <th></th>\n",
       "    </tr>\n",
       "  </thead>\n",
       "  <tbody>\n",
       "    <tr>\n",
       "      <th>Female</th>\n",
       "      <td>3.203009</td>\n",
       "      <td>361.94</td>\n",
       "      <td>113</td>\n",
       "      <td>4.47</td>\n",
       "    </tr>\n",
       "    <tr>\n",
       "      <th>Male</th>\n",
       "      <td>3.017853</td>\n",
       "      <td>1967.64</td>\n",
       "      <td>652</td>\n",
       "      <td>4.07</td>\n",
       "    </tr>\n",
       "    <tr>\n",
       "      <th>Other / Non-Disclosed</th>\n",
       "      <td>3.346000</td>\n",
       "      <td>50.19</td>\n",
       "      <td>15</td>\n",
       "      <td>4.56</td>\n",
       "    </tr>\n",
       "  </tbody>\n",
       "</table>\n",
       "</div>"
      ],
      "text/plain": [
       "                       Average_Purchase_Price  Total_Price_Value  \\\n",
       "Gender                                                             \n",
       "Female                               3.203009             361.94   \n",
       "Male                                 3.017853            1967.64   \n",
       "Other / Non-Disclosed                3.346000              50.19   \n",
       "\n",
       "                       Purchase_Count  Average_Total_Purchase_per_Person  \n",
       "Gender                                                                    \n",
       "Female                            113                               4.47  \n",
       "Male                              652                               4.07  \n",
       "Other / Non-Disclosed              15                               4.56  "
      ]
     },
     "execution_count": 81,
     "metadata": {},
     "output_type": "execute_result"
    }
   ],
   "source": [
    "#add avg. price per person column to pivot table dataframe\n",
    "avg_price_pp = [female_av_price_pp,male_av_price_pp, other_av_price_pp]\n",
    "gender_pivot_rename_df[\"Average_Total_Purchase_per_Person\"] = avg_price_pp\n",
    "gender_purchase_summary_df = gender_pivot_rename_df\n",
    "gender_purchase_summary_df"
   ]
  },
  {
   "cell_type": "code",
   "execution_count": 82,
   "metadata": {},
   "outputs": [
    {
     "data": {
      "text/html": [
       "<div>\n",
       "<style scoped>\n",
       "    .dataframe tbody tr th:only-of-type {\n",
       "        vertical-align: middle;\n",
       "    }\n",
       "\n",
       "    .dataframe tbody tr th {\n",
       "        vertical-align: top;\n",
       "    }\n",
       "\n",
       "    .dataframe thead th {\n",
       "        text-align: right;\n",
       "    }\n",
       "</style>\n",
       "<table border=\"1\" class=\"dataframe\">\n",
       "  <thead>\n",
       "    <tr style=\"text-align: right;\">\n",
       "      <th></th>\n",
       "      <th>Average_Purchase_Price</th>\n",
       "      <th>Total_Price_Value</th>\n",
       "      <th>Purchase_Count</th>\n",
       "      <th>Average_Total_Purchase_per_Person</th>\n",
       "    </tr>\n",
       "    <tr>\n",
       "      <th>Gender</th>\n",
       "      <th></th>\n",
       "      <th></th>\n",
       "      <th></th>\n",
       "      <th></th>\n",
       "    </tr>\n",
       "  </thead>\n",
       "  <tbody>\n",
       "    <tr>\n",
       "      <th>Female</th>\n",
       "      <td>$3.20</td>\n",
       "      <td>$361.94</td>\n",
       "      <td>113</td>\n",
       "      <td>$4.47</td>\n",
       "    </tr>\n",
       "    <tr>\n",
       "      <th>Male</th>\n",
       "      <td>$3.02</td>\n",
       "      <td>$1967.64</td>\n",
       "      <td>652</td>\n",
       "      <td>$4.07</td>\n",
       "    </tr>\n",
       "    <tr>\n",
       "      <th>Other / Non-Disclosed</th>\n",
       "      <td>$3.35</td>\n",
       "      <td>$50.19</td>\n",
       "      <td>15</td>\n",
       "      <td>$4.56</td>\n",
       "    </tr>\n",
       "  </tbody>\n",
       "</table>\n",
       "</div>"
      ],
      "text/plain": [
       "                      Average_Purchase_Price Total_Price_Value  \\\n",
       "Gender                                                           \n",
       "Female                                 $3.20           $361.94   \n",
       "Male                                   $3.02          $1967.64   \n",
       "Other / Non-Disclosed                  $3.35            $50.19   \n",
       "\n",
       "                       Purchase_Count Average_Total_Purchase_per_Person  \n",
       "Gender                                                                   \n",
       "Female                            113                             $4.47  \n",
       "Male                              652                             $4.07  \n",
       "Other / Non-Disclosed              15                             $4.56  "
      ]
     },
     "execution_count": 82,
     "metadata": {},
     "output_type": "execute_result"
    }
   ],
   "source": [
    "#Create a summary data frame to hold the results\n",
    "#Optional: give the displayed data cleaner formatting\n",
    "gender_purchase_summary_df[\"Average_Purchase_Price\"]=gender_purchase_summary_df[\"Average_Purchase_Price\"].map(\"${:.2f}\".format)\n",
    "gender_purchase_summary_df[\"Total_Price_Value\"]=gender_purchase_summary_df[\"Total_Price_Value\"].map(\"${:.2f}\".format)\n",
    "gender_purchase_summary_df[\"Average_Total_Purchase_per_Person\"]=gender_purchase_summary_df[\"Average_Total_Purchase_per_Person\"].map(\"${:.2f}\".format)\n",
    "                                                                                 \n",
    "#Display the summary data frame\n",
    "gender_purchase_summary_df"
   ]
  },
  {
   "cell_type": "code",
   "execution_count": 83,
   "metadata": {},
   "outputs": [],
   "source": [
    "#Age Demographics\n",
    " \n",
    "#Establish bins for ages\n",
    "\n",
    "\n",
    "#Categorize the existing players using the age bins. Hint: use pd.cut()\n",
    "\n",
    "\n",
    "#Calculate the numbers and percentages by age group\n",
    "\n",
    "\n",
    "#Create a summary data frame to hold the results\n",
    "\n",
    "\n",
    "#Optional: round the percentage column to two decimal points\n",
    "\n",
    "\n",
    "#Display Age Demographics Table"
   ]
  },
  {
   "cell_type": "code",
   "execution_count": 84,
   "metadata": {},
   "outputs": [],
   "source": [
    "#Purchasing Analysis (Age)\n",
    " \n",
    "#Bin the purchase_data data frame by age\n",
    "\n",
    "\n",
    "#Run basic calculations to obtain purchase count, avg. purchase price, avg. purchase total per person etc. in the table below\n",
    "\n",
    "\n",
    "#Create a summary data frame to hold the results\n",
    "\n",
    "\n",
    "#Optional: give the displayed data cleaner formatting\n",
    "\n",
    "\n",
    "#Display the summary data frame"
   ]
  },
  {
   "cell_type": "code",
   "execution_count": null,
   "metadata": {},
   "outputs": [],
   "source": [
    "#Top Spenders\n",
    " \n",
    "#Run basic calculations to obtain the results in the table below\n",
    "\n",
    "\n",
    "#Create a summary data frame to hold the results\n",
    "\n",
    "\n",
    "#Sort the total purchase value column in descending order\n",
    "\n",
    "\n",
    "#Optional: give the displayed data cleaner formatting\n",
    "\n",
    "\n",
    "#Display a preview of the summary data frame"
   ]
  },
  {
   "cell_type": "code",
   "execution_count": null,
   "metadata": {},
   "outputs": [],
   "source": [
    "#Most Popular Items\n",
    " \n",
    "#Retrieve the Item ID, Item Name, and Item Price columns\n",
    "\n",
    "\n",
    "#Group by Item ID and Item Name. Perform calculations to obtain purchase count, item price, and total purchase value\n",
    "\n",
    "\n",
    "#Create a summary data frame to hold the results\n",
    "\n",
    "\n",
    "#Sort the purchase count column in descending order\n",
    "\n",
    "\n",
    "#Optional: give the displayed data cleaner formatting\n",
    "\n",
    "\n",
    "#Display a preview of the summary data frame"
   ]
  },
  {
   "cell_type": "code",
   "execution_count": null,
   "metadata": {},
   "outputs": [],
   "source": [
    "#Most Profitable Items\n",
    " \n",
    "#Sort the above table by total purchase value in descending order\n",
    "\n",
    "\n",
    "#Optional: give the displayed data cleaner formatting\n",
    "\n",
    "\n",
    "#Display a preview of the data frame"
   ]
  },
  {
   "cell_type": "code",
   "execution_count": null,
   "metadata": {},
   "outputs": [],
   "source": [
    "#https://monash.bootcampcontent.com/monash-coding-bootcamp/monu-mel-data-pt-08-2020-u-c/blob/961a99a3e178097c8c1be33feaa3cc8ce78faed0/02-Homework/04-Pandas/Instructions/HeroesOfPymoli/HeroesOfPymoli_starter.ipynb"
   ]
  }
 ],
 "metadata": {
  "kernelspec": {
   "display_name": "Python [conda env:PythonData]",
   "language": "python",
   "name": "conda-env-PythonData-py"
  },
  "language_info": {
   "codemirror_mode": {
    "name": "ipython",
    "version": 3
   },
   "file_extension": ".py",
   "mimetype": "text/x-python",
   "name": "python",
   "nbconvert_exporter": "python",
   "pygments_lexer": "ipython3",
   "version": "3.7.1"
  }
 },
 "nbformat": 4,
 "nbformat_minor": 4
}
